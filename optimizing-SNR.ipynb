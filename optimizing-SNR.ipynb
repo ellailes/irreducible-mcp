{
 "cells": [
  {
   "cell_type": "code",
   "execution_count": 1,
   "metadata": {},
   "outputs": [],
   "source": [
    "import numpy as np\n",
    "import irreducible_library as irr\n",
    "import os, sys\n",
    "import matplotlib.pyplot as plt\n",
    "import scipy\n",
    "%matplotlib inline\n",
    "%load_ext autoreload\n",
    "plt.style.use('default')\n",
    "from matplotlib import rc, rcParams\n",
    "from irreducible_library import relic, relic_ann, relic_plas\n",
    "# Make use of TeX\\ufeff\n",
    "#rc('text',usetex=True)\n",
    "# Change all fonts to ‘Computer Modern’\n",
    "rc('font',**{'size':14, 'family':'serif','serif':['Times New Roman']})"
   ]
  }
 ],
 "metadata": {
  "kernelspec": {
   "display_name": "power-spectra",
   "language": "python",
   "name": "python3"
  },
  "language_info": {
   "codemirror_mode": {
    "name": "ipython",
    "version": 3
   },
   "file_extension": ".py",
   "mimetype": "text/x-python",
   "name": "python",
   "nbconvert_exporter": "python",
   "pygments_lexer": "ipython3",
   "version": "3.10.13"
  }
 },
 "nbformat": 4,
 "nbformat_minor": 2
}
