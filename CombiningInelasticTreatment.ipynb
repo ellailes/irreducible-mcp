{
 "cells": [
  {
   "cell_type": "code",
   "execution_count": 1,
   "metadata": {},
   "outputs": [],
   "source": [
    "import numpy as np\n",
    "import irreducible_library as irr\n",
    "import os, sys\n",
    "import matplotlib.pyplot as plt\n",
    "import scipy\n",
    "import matplotlib as mpl\n",
    "mpl.rcParams.update(mpl.rcParamsDefault)\n",
    "%matplotlib inline\n",
    "%load_ext autoreload\n",
    "plt.style.use('default')\n",
    "from matplotlib import rc, colors\n",
    "# Make use of TeX\\ufeff\n",
    "\n",
    "plt.rcParams['mathtext.fontset'] = 'stix'\n",
    "plt.rcParams['font.family'] = 'STIXGeneral'\n",
    "\n",
    "rc('font',**{'size':16, 'family':'serif','serif':['Times New Roman']})\n",
    "#plt.rcParams['text.usetex'] = True"
   ]
  },
  {
   "cell_type": "code",
   "execution_count": 2,
   "metadata": {},
   "outputs": [
    {
     "name": "stdout",
     "output_type": "stream",
     "text": [
      "0.30286190409413793\n"
     ]
    }
   ],
   "source": [
    "#everything in units where c=hbar=1 and the energies are in MeV\n",
    "me = 0.511\n",
    "mmu=105.658\n",
    "alpha_em = 1/137.\n",
    "e = np.sqrt(alpha_em*4*np.pi)\n",
    "print(e)\n",
    "Mpl = 2.435e21 #reduced planck mass (i.e. factor of 8 pi)\n",
    "cm2_conv = 2.5e21\n",
    "costhetaW = 0.881"
   ]
  },
  {
   "cell_type": "code",
   "execution_count": 3,
   "metadata": {},
   "outputs": [],
   "source": [
    "def load_csv(file_path):\n",
    "    \"\"\"\n",
    "    Load a CSV file into a numpy array.\n",
    "\n",
    "    Parameters:\n",
    "        file_path (str): The path to the CSV file.\n",
    "\n",
    "    Returns:\n",
    "        numpy.ndarray: The numpy array containing the data.\n",
    "    \"\"\"\n",
    "    try:\n",
    "        data = np.genfromtxt(file_path, delimiter=',', skip_header=1)\n",
    "        return data\n",
    "    except Exception as e:\n",
    "        print(\"Error loading CSV file:\", e)\n",
    "        return None\n",
    "    \n",
    "def read_dat_file(filename):\n",
    "    mlist = []  # List for first column\n",
    "    Qlist = []  # List for second column\n",
    "    \n",
    "    try:\n",
    "        with open(filename, 'r') as f:\n",
    "            # Skip header line\n",
    "            next(f)\n",
    "            \n",
    "            # Read actual data\n",
    "            for line in f:\n",
    "                # Split each line into columns\n",
    "                columns = line.split()\n",
    "                \n",
    "                # Assuming the first two values are float data\n",
    "                if len(columns) >= 2:  # Ensure at least 2 columns exist\n",
    "                    mlist.append(float(columns[0]))\n",
    "                    Qlist.append(float(columns[1]))\n",
    "\n",
    "        return mlist, Qlist\n",
    "    except IOError:\n",
    "        print(f\"Error: File '{filename}' not found or cannot be read.\")"
   ]
  },
  {
   "cell_type": "code",
   "execution_count": 5,
   "metadata": {},
   "outputs": [],
   "source": [
    "mlist1 = np.logspace(-6,0,num = 25)\n",
    "freeze_in = np.loadtxt(\"datadump/Abundance-1-data.txt\")\n",
    "freeze_in_func = scipy.interpolate.interp1d(mlist1,freeze_in, kind = \"quadratic\",fill_value=\"extrapolate\")"
   ]
  },
  {
   "cell_type": "code",
   "execution_count": 6,
   "metadata": {},
   "outputs": [],
   "source": [
    "filename = 'datadump/data_lightquarksnonrel.dat'  # Replace with your actual file path\n",
    "mlist, Qlist= read_dat_file(filename)\n",
    "mlist = np.array(mlist)*10**3\n",
    "Qlist = np.array(Qlist)/(e*costhetaW)"
   ]
  },
  {
   "cell_type": "code",
   "execution_count": 9,
   "metadata": {},
   "outputs": [
    {
     "name": "stderr",
     "output_type": "stream",
     "text": [
      "/Users/ellailes/Code/Irreducible-mcp/irreducible_library.py:217: RuntimeWarning: The iteration is not making good progress, as measured by the \n",
      "  improvement from the last ten iterations.\n",
      "  return fsolve(lambda w: Pi_t(T, k, w)+k**2-w**2, k)\n"
     ]
    }
   ],
   "source": [
    "mlist2=np.logspace(-1.1,1,num=20)\n",
    "Qm15 = np.zeros(20)\n",
    "for i in range(20):\n",
    "    info1 = irr.relic(1.8e-11,mlist2[i])\n",
    "    Qm15[i] = np.sqrt(1/info1)*1.8e-11"
   ]
  },
  {
   "cell_type": "code",
   "execution_count": 10,
   "metadata": {},
   "outputs": [
    {
     "name": "stdout",
     "output_type": "stream",
     "text": [
      "[3.10227877e-11 2.91027352e-11 2.71448383e-11 2.51595633e-11\n",
      " 2.31743474e-11 2.12331981e-11 1.94038927e-11 1.78769186e-11\n",
      " 1.74961113e-11 1.77288371e-11 1.80305484e-11 1.83758936e-11\n",
      " 1.87732991e-11 1.92534723e-11 1.98450816e-11 2.05897220e-11\n",
      " 2.14842891e-11 2.22726479e-11 2.35230986e-11 2.57141586e-11]\n",
      "[2.13213833e-11 2.14075833e-11 2.14825398e-11 2.15462528e-11\n",
      " 2.16024702e-11 2.16511920e-11 2.16999137e-11 2.17448876e-11\n",
      " 2.17973572e-11 2.18423311e-11 2.18910528e-11 2.19435224e-11\n",
      " 2.19997398e-11 2.20597050e-11 2.21271659e-11 2.22058702e-11\n",
      " 2.22883224e-11 2.23820181e-11 2.24794616e-11 2.25918963e-11\n",
      " 2.27155746e-11 2.28542442e-11 2.30041572e-11 2.31653138e-11\n",
      " 2.33377138e-11 2.35213572e-11 2.37124964e-11 2.39073833e-11\n",
      " 2.41060181e-11 2.42971573e-11 2.44770529e-11 2.46419573e-11\n",
      " 2.47768790e-11 2.48818182e-11 2.49417834e-11 2.49567747e-11\n",
      " 2.49230442e-11 2.48480877e-11 2.47543921e-11 2.46981747e-11\n",
      " 2.48855660e-11 2.53428008e-11 2.59124704e-11 2.65196182e-11\n",
      " 2.71567487e-11 2.77826356e-11 2.83935313e-11 2.89706965e-11\n",
      " 2.95591053e-11 3.03723835e-11 3.14255227e-11 3.24149488e-11\n",
      " 3.31982445e-11 3.37266880e-11]\n"
     ]
    }
   ],
   "source": [
    "print(Qm15)\n",
    "print(Qlist)\n",
    "#-4 index from Qm15 matches with 2nd index with Saniyas line"
   ]
  },
  {
   "cell_type": "code",
   "execution_count": 30,
   "metadata": {},
   "outputs": [
    {
     "name": "stdout",
     "output_type": "stream",
     "text": [
      "[ 0.07943282  0.10245339  0.13214558  0.17044291  0.21983926  0.28355126\n",
      "  0.36572773  0.47171991  0.60842987  0.78475997  1.0121926   1.30553787\n",
      "  1.68389803  2.1719114   2.80135676  3.61322276  4.66037703  6.01100886\n",
      "  7.75306963 10.        ]\n",
      "[3.10227877e-11 2.91027352e-11 2.71448383e-11 2.51595633e-11\n",
      " 2.31743474e-11 2.12331981e-11 1.94038927e-11 1.78769186e-11\n",
      " 1.74961113e-11 1.77288371e-11 1.80305484e-11 1.83758936e-11\n",
      " 1.87732991e-11 1.92534723e-11 1.98450816e-11 2.05897220e-11\n",
      " 2.14842891e-11 2.22726479e-11 2.35230986e-11 2.57141586e-11]\n",
      "\n",
      "[  1.122   1.259   1.413   1.585   1.778   1.995   2.239   2.512   2.818\n",
      "   3.162   3.548   3.981   4.467   5.012   5.623   6.31    7.079   7.943\n",
      "   8.913  10.     11.22   12.59   14.13   15.85   17.78   19.95   22.39\n",
      "  25.12   28.18   31.62   35.48   39.81   44.67   50.12   56.23   63.1\n",
      "  70.79   79.43   89.13  100.    112.2   125.9   141.3   158.5   177.8\n",
      " 199.5   223.9   251.2   281.8   316.2   354.8   398.1   446.7   501.2  ]\n",
      "[2.13213833e-11 2.14075833e-11 2.14825398e-11 2.15462528e-11\n",
      " 2.16024702e-11 2.16511920e-11 2.16999137e-11 2.17448876e-11\n",
      " 2.17973572e-11 2.18423311e-11 2.18910528e-11 2.19435224e-11\n",
      " 2.19997398e-11 2.20597050e-11 2.21271659e-11 2.22058702e-11\n",
      " 2.22883224e-11 2.23820181e-11 2.24794616e-11 2.25918963e-11\n",
      " 2.27155746e-11 2.28542442e-11 2.30041572e-11 2.31653138e-11\n",
      " 2.33377138e-11 2.35213572e-11 2.37124964e-11 2.39073833e-11\n",
      " 2.41060181e-11 2.42971573e-11 2.44770529e-11 2.46419573e-11\n",
      " 2.47768790e-11 2.48818182e-11 2.49417834e-11 2.49567747e-11\n",
      " 2.49230442e-11 2.48480877e-11 2.47543921e-11 2.46981747e-11\n",
      " 2.48855660e-11 2.53428008e-11 2.59124704e-11 2.65196182e-11\n",
      " 2.71567487e-11 2.77826356e-11 2.83935313e-11 2.89706965e-11\n",
      " 2.95591053e-11 3.03723835e-11 3.14255227e-11 3.24149488e-11\n",
      " 3.31982445e-11 3.37266880e-11]\n"
     ]
    }
   ],
   "source": [
    "# patching\n",
    "print(mlist2)\n",
    "print(Qm15)\n",
    "print(\"\")\n",
    "print(mlist)\n",
    "print(Qlist)\n",
    "# freeze-in line index of -3 patched with addition index of 6\n",
    "np.savetxt(\"datadump/fullrangefreezeinline.txt\",np.array([mlist1,freeze_in]))"
   ]
  },
  {
   "cell_type": "code",
   "execution_count": 33,
   "metadata": {},
   "outputs": [
    {
     "name": "stdout",
     "output_type": "stream",
     "text": [
      "76 76\n"
     ]
    }
   ],
   "source": [
    "arr = np.loadtxt(\"datadump/fullrangefreezeinline.txt\")\n",
    "print(len(arr[0]),len(arr[1]))"
   ]
  },
  {
   "cell_type": "code",
   "execution_count": 35,
   "metadata": {},
   "outputs": [
    {
     "data": {
      "image/png": "[encoded data removed]",
      "text/plain": [
       "<Figure size 640x480 with 1 Axes>"
      ]
     },
     "metadata": {},
     "output_type": "display_data"
    }
   ],
   "source": [
    "f, ax = plt.subplots()\n",
    "alist = np.logspace(-1.9, 4.5,num = 500)\n",
    "\n",
    "#ax.loglog(mlist1, freeze_in,lw=5,c='IndianRed',label = r'm')\n",
    "#ax.loglog(mlist, Qlist,lw=5,c='indigo',label = r'plasmon')\n",
    "#ax.loglog(mlist2, Qm15,lw=5,c='olivedrab',label = r'plasmon')\n",
    "ax.loglog(arr[0], arr[1],lw=2,c='hotpink',label = r'plasmon')\n",
    "\n",
    "#ax.plot(mlist,np.linspace(0.1,0.1,num=50))\n",
    "#ax.set_xscale(\"log\")\n",
    "ax.set_ylabel(r'Q', fontsize=20)\n",
    "ax.set_xlabel(r'$m_\\chi$ [MeV]', fontsize=20)\n",
    "#ax.set_title(r'$Plasma Frequency$', fontsize=18)\n",
    "#ax.set_xlim([100,0.0001])\n",
    "ax.set_ylim([1e-12, 1e-8])\n",
    "#ax.set_xticklabels(xticklabels,fontsize=16)\n",
    "ax.xaxis.set_tick_params(labelsize=16)\n",
    "ax.yaxis.set_tick_params(labelsize=16)\n",
    "\n",
    "\n",
    "#ax.legend(framealpha=1, loc='lower right', fontsize=8)\n"
   ]
  }
 ],
 "metadata": {
  "kernelspec": {
   "display_name": "irreducible",
   "language": "python",
   "name": "python3"
  },
  "language_info": {
   "codemirror_mode": {
    "name": "ipython",
    "version": 3
   },
   "file_extension": ".py",
   "mimetype": "text/x-python",
   "name": "python",
   "nbconvert_exporter": "python",
   "pygments_lexer": "ipython3",
   "version": "3.10.14"
  }
 },
 "nbformat": 4,
 "nbformat_minor": 2
}
